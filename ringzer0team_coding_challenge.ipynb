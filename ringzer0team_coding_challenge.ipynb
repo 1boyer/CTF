{
  "nbformat": 4,
  "nbformat_minor": 0,
  "metadata": {
    "colab": {
      "name": "ringzer0team_coding_challenge.ipynb",
      "version": "0.3.2",
      "provenance": [],
      "collapsed_sections": [],
      "include_colab_link": true
    },
    "kernelspec": {
      "name": "python2",
      "display_name": "Python 2"
    }
  },
  "cells": [
    {
      "cell_type": "markdown",
      "metadata": {
        "id": "view-in-github",
        "colab_type": "text"
      },
      "source": [
        "[View in Colaboratory](https://colab.research.google.com/github/1boyer/CTF/blob/master/ringzer0team_coding_challenge.ipynb)"
      ]
    },
    {
      "metadata": {
        "id": "u1xcWD2KDE_c",
        "colab_type": "code",
        "colab": {}
      },
      "cell_type": "code",
      "source": [
        "import requests\n",
        "import re\n",
        "import hashlib\n",
        "\n",
        "url = 'https://ringzer0team.com/login'\n",
        "login_data = dict(username='', password='', submit='Login &raquo;')\n",
        "session = requests.session()\n",
        "\n",
        "r = session.post(url, data=login_data)"
      ],
      "execution_count": 0,
      "outputs": []
    },
    {
      "metadata": {
        "id": "oGcd0-OYDg8S",
        "colab_type": "code",
        "colab": {
          "base_uri": "https://localhost:8080/",
          "height": 92
        },
        "outputId": "e1762925-6ae6-4b1a-ae04-d09ddd529a6a"
      },
      "cell_type": "code",
      "source": [
        "# Solve challenge 13 \"Hash me please\"\n",
        "r = session.get('https://ringzer0team.com/challenges/13')\n",
        "regex = r\"----- BEGIN MESSAGE -----<br />\\s+([a-zA-Z0-9]+)\"\n",
        "msg = re.findall(regex, r.text)[0]\n",
        "print msg\n",
        "shaHash = hashlib.sha512(msg).hexdigest()\n",
        "print shaHash\n",
        "r = session.get('https://ringzer0team.com/challenges/13/' + shaHash)\n",
        "print re.findall('FLAG-[a-zA-Z0-9]+',r.text)[0]"
      ],
      "execution_count": 2,
      "outputs": [
        {
          "output_type": "stream",
          "text": [
            "0QPhzJ7BytgPqwP8SOVXw7VWdgPesZWiFBq5bnwAHCfXZVVHzHvWFgIImoNFdzOI14E3i0tPtzDjkoQKWbwri50vjD0m2FVUApNJg7oAwRJG6pgTrDaAy1VHuMUmhF7IVKh2Hws3e1AbhGUzaVZyMK56mQjumg37RaZpwijB9JChgmGg7vEK5AHihQDtXwqExgTUo2loCNvIZ1PXnkyiK5rSLUbzhr3EyNoNGz28cnH2fmQtweB7aTPMEQbL84gxHuaeU3cXhJQmVwFiB7fBRVdlBeXA93XHoYL9RNWYnCb9YHhqFnSm8WyA0m00gOxvD8ukMg90IbZxI7OekwqjiPJ91AZ8entHlNSYUSOsTEQsBvwLRMU0suZkUPiZ2Cxeff2ZYHiHbZZCkle1YZShjHr4nATf2gj8mcYaK6HLVxe6IjYw8GEieVcrlVwe2GceI0eiXMUJ9ZFH8u470yg5kimw4JAWfD0Ou5XhHHRGxndwH8tywztGIG2CftplWfZhaMpIk6eIjh4RgnfCNz9m52Oal4l89bgaOvIZrNxBVri1FotjNtvJlaJx4Vv4XB5BXErehOG25PTB3dKHw5gH5Q40CqUqSPRGj8KqNhiJW2aQ5KorGuZCbUsEbdUTSBp2A0ie8rNUjNAeoOwV9lnb5GF6JpQsR6khXtmVKZFUC6ZRLlCLxQMsmhpWw6ed2plPIyBin63Q3SxF40grGTJS1ZFoVKsOZDux2VGfSzVLijhc9otF73oYTUdEuvjjZDHRoeW6DIIMRPOQ48m12BQLlTgFfpP4SmL6qx3U5CwNibucaH428LDkvJPAYuuHH5EYtxIp05287na7U4ZSFt303IqR3LpBGTpZhXf7T75Ql6N50DOwWHmPgDx9eNBLwQBEDGBnEx3PtHKkaoGXWTD2m12rEt219tvDZWQtkJ8DhJNhYk5K3yCfqvxUOpLOJ6hyTXS3xRxEqbMelHPf6iknDI7hXJVwG3VpREjelHJCJmHVUm0Rua4YI16wBST7LFns\n",
            "8e12c234f14d53ac7880a508079d2356a94b2036af62167ec13a0e3392fed2584bc9009f08f210d8468e01c9321b7da6e1a6c9349208b1450cc8ed861242f86c\n",
            "FLAG-mukgu5g2w932t2kx1nqnhhlhy4\n"
          ],
          "name": "stdout"
        }
      ]
    },
    {
      "metadata": {
        "id": "OZFFQen3DlzM",
        "colab_type": "code",
        "colab": {
          "base_uri": "https://localhost:8080/",
          "height": 110
        },
        "outputId": "ca65c011-2bf0-4b54-9346-09f3287842be"
      },
      "cell_type": "code",
      "source": [
        "from binascii import unhexlify\n",
        "# Solve challenge 14 \"Hash me again\"\n",
        "r = session.get('https://ringzer0team.com/challenges/14')\n",
        "regex = r\"----- BEGIN MESSAGE -----<br />\\s+([a-zA-Z0-9]+)\"\n",
        "msg_binary = re.findall(regex, r.text)[0]\n",
        "print len(msg_binary)\n",
        "msg = unhexlify('%x' % int(msg_binary,2) )\n",
        "print msg\n",
        "shaHash = hashlib.sha512(msg).hexdigest()\n",
        "print shaHash\n",
        "r = session.get('https://ringzer0team.com/challenges/14/' + shaHash)\n",
        "print re.findall('FLAG-[a-zA-Z0-9]+', r.text)[0]"
      ],
      "execution_count": 6,
      "outputs": [
        {
          "output_type": "stream",
          "text": [
            "8192\n",
            "dddSq7C8mHwtJQhQSyonXce8FYQGcmCfpGYGDqEQX19xHgdpErDstHqZv7wxkZDzvr6YHAFvrESZLVegdHyxfPnANJYXysnTJjIhJeC1JlRl7VratPyyvLZ8kOWJ69tFi2NS6fJFrqQoc8pwOOV9pK8AoUakTtQ1ltKhzjNQAt5DrlZ5ZL5el3FAOFLxZrpaLZhb9VSAeN4wYUsNvoSHho7WUJjJ0zJCpRDpClQHZK4NvmrQAaoIomu8VEIM4hekZIAsTgZIRTmd6DTxE85SkqR5VpHPxL0njqF3xuCeeOiai1yM0uvaKd5wtCbQe24nizhFUJKYoSZwKn9AHuBixwEQYGx3zrhHRodBXOpbxfy8syz0S09gnEXbbl5ADc8kqbLeQ1ge6Ecp2CgLtgSGKGILSDclFawVc8ZSZ5XWAZctsi4LoNhZkPB2iDeNDByGzoppjccK1e3jmYVBC2rMHSFPlJtPaSlz6APgCRQuVKE8zpA1iRDPz8vLIPrIxD8t3NAwvhRgRmfgCF7KnBqMAMo8rFHP8G82kzpFG7MojRuMnsmAUDdlfsjxXRcWnbPyA5372GlcoFOBY12Iu6TAo3XcL0ZZ1EnszhprNAu268uVZmukjeKx8yAJopygTMzjUOByfVqcUKXJXiU6mutkTTT78ieSVD1Fhs3nejqYTdyGmiCyDWImGsjFBnomQfRYyKcCUsrEwPbIXD6qqFCWYMsp0GCHMjwaUyDFRU9dzaMnEJEUe7H3J0iAwL89UuaFTDaAoaEObg2FPwqUtYN3OWubxsbhMbNwFOWUPqyQwrlbNCV7qz05ll7ID8QgauCF8ppOFOu25G4I8QGpfxlqIiZbhFihZLNY02CwHWoCtibrZHH44SlD1aF8GNgwoTkeMNAjAPMTYNaNlHIfqTIhUdgqRmM56XaJABT0hvK59KJkihpz0YGL2M1JYEFVsGuS8dJfzjbyUKI3SYsJNYkFBcfqGLbYiwHgAhmZqoobZX5HLngocqUDt0U0BVOJimQI\n",
            "8ca62d78f46a4bc314e8c65c7bf4b039a8f5f7b79c04fd6b6eeabbb66d59e439bf74d3f0f79f0e06f61bc02f37e7b21fc4836b5f3cdf87f8144ea9da7cf8138e\n",
            "FLAG-jz145p93ei75buh1kpx9bul9xl\n"
          ],
          "name": "stdout"
        }
      ]
    },
    {
      "metadata": {
        "id": "IDz6TsFXl-xh",
        "colab_type": "code",
        "colab": {
          "base_uri": "https://localhost:8080/",
          "height": 72
        },
        "outputId": "9ab8937f-babe-4bce-b515-dfc4ea1c16de"
      },
      "cell_type": "code",
      "source": [
        "# Solve challenge 32 \"Can you help me find the answer to this equation\"\n",
        "r = session.get('https://ringzer0team.com/challenges/32')\n",
        "regex = r\"----- BEGIN MESSAGE -----<br />\\s+([0-9]+) \\+ ([a-zA-Z0-9]+) - ([0-1]+)\"\n",
        "msg = re.findall(regex, r.text)[0]\n",
        "print msg\n",
        "sum = int(msg[0])+int(msg[1],16)-int(msg[2],2)\n",
        "print \"%d\" % sum\n",
        "r = session.get('https://ringzer0team.com/challenges/32/' + '%d' % sum)\n",
        "print re.findall('FLAG-[a-zA-Z0-9]+', r.text)[0]"
      ],
      "execution_count": 54,
      "outputs": [
        {
          "output_type": "stream",
          "text": [
            "(u'2199', u'0x131c', u'10011001110001')\n",
            "-2750\n",
            "FLAG-JsxIhjHJekAiVaxJlNe2PAYZ\n"
          ],
          "name": "stdout"
        }
      ]
    },
    {
      "metadata": {
        "id": "_LmCT5eq4rgq",
        "colab_type": "code",
        "colab": {
          "base_uri": "https://localhost:8080/",
          "height": 54
        },
        "outputId": "20cd736e-37cb-4284-8b8b-87f579d3965e"
      },
      "cell_type": "code",
      "source": [
        "# Solve challenge 56 \"Hash breaker\"\n",
        "# In this challenge the incoming hash must be broken and returned in 3 seconds\n",
        "hashes = {}\n",
        "for i in range(10000):\n",
        "  hashes[hashlib.sha1('%d'%i).hexdigest() ] = i\n",
        "  \n",
        "r = session.get('https://ringzer0team.com/challenges/56')\n",
        "regex = r\"----- BEGIN HASH -----<br />\\s+([a-zA-Z0-9]+)\"\n",
        "msg = re.findall(regex, r.text)[0]\n",
        "if msg in hashes.keys():\n",
        "  print msg, hashes[msg]\n",
        "  r = session.get('https://ringzer0team.com/challenges/56/' + '%d' % hashes[msg])\n",
        "  print re.findall('FLAG-[a-zA-Z0-9]+', r.text)[0] "
      ],
      "execution_count": 2,
      "outputs": [
        {
          "output_type": "stream",
          "text": [
            "88547be1130859cf095ec35f890a1a53eafa9ac2 664\n",
            "FLAG-G1095M88Tk837G9AC0EA6q3N\n"
          ],
          "name": "stdout"
        }
      ]
    },
    {
      "metadata": {
        "id": "xfH3iSkq6cUw",
        "colab_type": "code",
        "colab": {
          "base_uri": "https://localhost:8080/",
          "height": 135
        },
        "outputId": "b900c8df-b77b-4333-99ec-55af93b8cece"
      },
      "cell_type": "code",
      "source": [
        "#Solve challenge 15\n",
        "r = session.get('https://ringzer0team.com/challenges/15')\n",
        "regex = r\"----- BEGIN Elf Message -----<br />\\s+([a-zA-Z0-9]+)\"\n",
        "msg = re.findall(regex, r.text)[0]\n",
        "print msg\n",
        "\n",
        "regex = r\"----- BEGIN Checksum -----<br />\\s+([a-zA-Z0-9]+)\"\n",
        "checksum = re.findall(regex, r.text)[0]\n",
        "print checksum\n",
        "\n",
        "check_list = list(checksum)\n",
        "j = 0\n",
        "N = len(check_list)\n",
        "for char in msg:\n",
        "  #print chr(ord(char)^ord(check_list[j%N]))\n",
        "  "
      ],
      "execution_count": 54,
      "outputs": [
        {
          "output_type": "error",
          "ename": "IndentationError",
          "evalue": "ignored",
          "traceback": [
            "\u001b[0;36m  File \u001b[0;32m\"<ipython-input-54-b60f7587848f>\"\u001b[0;36m, line \u001b[0;32m15\u001b[0m\n\u001b[0;31m    \u001b[0m\n\u001b[0m    ^\u001b[0m\n\u001b[0;31mIndentationError\u001b[0m\u001b[0;31m:\u001b[0m expected an indented block\n"
          ]
        }
      ]
    },
    {
      "metadata": {
        "id": "mPDsgyre8hxP",
        "colab_type": "code",
        "colab": {
          "base_uri": "https://localhost:8080/",
          "height": 72
        },
        "outputId": "42b7e8e3-badd-4c5b-da67-5bcf5a16e717"
      },
      "cell_type": "code",
      "source": [
        "#Solve challenge 16\n",
        "from base64 import b64decode\n",
        "\n",
        "r = session.get('https://ringzer0team.com/challenges/16')\n",
        "regex = r\"----- BEGIN XOR KEY -----<br />\\s+([a-zA-Z0-9+\\\\\\/=]+)\"\n",
        "key = b64decode(re.findall(regex, r.text)[0])\n",
        "print len(key), key\n",
        "\n",
        "regex = r\"----- BEGIN CRYPTED MESSAGE -----<br />\\s+([a-zA-Z0-9+\\\\\\/=]+)\"\n",
        "ciphertext = b64decode(re.findall(regex, r.text)[0])\n",
        "print len(ciphertext), ciphertext\n",
        "\n",
        "key_list = list(key)\n",
        "j = 0\n",
        "N = len(key_list)\n",
        "decripted_list = []\n",
        "for char in ciphertext:\n",
        "  decripted_list.append( chr(ord(char)^ord(key_list[j%N])) )\n",
        "  j = j + 1\n",
        "  \n",
        "print ''.join(decripted_list)"
      ],
      "execution_count": 55,
      "outputs": [
        {
          "output_type": "stream",
          "text": [
            "33 �0[l<+\u0001��a��Y5��ǘ���v\u000e�\u0010�*N|'F\n",
            "32 \u0013V\f\u0004#2X-\u0005\u001d;Qa\u0003\u0000\u0019*>((\u001aQgs\u0017~\u0006\u0002\u0018&2\u0003\n",
            "�fWh\u001f\u0019Y��|֋86������ҹ�\u0005\u0019�\u0016�2hN$\n"
          ],
          "name": "stdout"
        }
      ]
    },
    {
      "metadata": {
        "id": "xxrsamWbszCb",
        "colab_type": "code",
        "colab": {}
      },
      "cell_type": "code",
      "source": [
        "# Challenge 125 - Execute The Shellcode!\n",
        "from ctypes import CDLL, c_char_p, c_void_p, memmove, cast, CFUNCTYPE\n",
        "r = session.get('https://ringzer0team.com/challenges/125')\n",
        "regex = r\"----- BEGIN SHELLCODE -----<br />\\s+([a-zA-Z0-9\\\\]+)\"\n",
        "shellcode_str = re.findall(regex, r.text)[0].replace('\\\\x', '')\n",
        "shellcode = shellcode_str.decode(\"hex\")\n",
        "\n",
        "libc = CDLL('libc.so.6')\n",
        "sc = c_char_p(shellcode)\n",
        "size = len(shellcode)\n",
        "addr = c_void_p(libc.valloc(size))\n",
        "memmove(addr, sc, size)\n",
        "libc.mprotect(addr, size, 0x7)\n",
        "run = cast(addr, CFUNCTYPE(c_void_p))\n",
        "run()"
      ],
      "execution_count": 0,
      "outputs": []
    },
    {
      "metadata": {
        "id": "4FLIxlNdmn7T",
        "colab_type": "code",
        "colab": {
          "base_uri": "https://localhost:8080/",
          "height": 55
        },
        "outputId": "a5b1de0b-7f2e-4917-eabf-42934a8d64a8"
      },
      "cell_type": "code",
      "source": [
        ""
      ],
      "execution_count": 82,
      "outputs": [
        {
          "output_type": "execute_result",
          "data": {
            "text/plain": [
              "'\\xebM^f\\x83\\xec\\x0cH\\x89\\xe0H1\\xc9h\\xab\\x9a\\xf6\\x87H\\x89\\xcf\\x80\\xc1\\x0c@\\x8a>@\\xf6\\xd7@\\x888H\\xff\\xc6hX\\xce\\xd9=H\\xff\\xc0\\xe2\\xea,\\x0cH\\x89\\xc6h\\xbf\\xacJgH1\\xc0H\\x89\\xc7@\\xb7\\x01\\x04\\x01H\\x89\\xc2\\x80\\xc2\\x0b\\x0f\\x05H1\\xc0\\x04<\\x0f\\x05\\xe8\\xae\\xff\\xff\\xff\\x97\\x91\\xb6\\xb7\\x98\\x99\\xa5\\xa9\\x90\\x95\\xa9\\x9e\\xe9\\x82\\xa3\\xb2\\xc4Mhm\\x92\\xf8\\xb7[RANDSTR2]'"
            ]
          },
          "metadata": {
            "tags": []
          },
          "execution_count": 82
        }
      ]
    },
    {
      "metadata": {
        "id": "4ahiKnvU1Ncq",
        "colab_type": "code",
        "colab": {}
      },
      "cell_type": "code",
      "source": [
        ""
      ],
      "execution_count": 0,
      "outputs": []
    }
  ]
}