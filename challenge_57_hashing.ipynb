{
  "nbformat": 4,
  "nbformat_minor": 0,
  "metadata": {
    "colab": {
      "name": "challenge-57-hashing.ipynb",
      "version": "0.3.2",
      "provenance": [],
      "collapsed_sections": [],
      "include_colab_link": true
    },
    "kernelspec": {
      "name": "python3",
      "display_name": "Python 3"
    }
  },
  "cells": [
    {
      "cell_type": "markdown",
      "metadata": {
        "id": "view-in-github",
        "colab_type": "text"
      },
      "source": [
        "[View in Colaboratory](https://colab.research.google.com/github/1boyer/CTF/blob/master/challenge_57_hashing.ipynb)"
      ]
    },
    {
      "metadata": {
        "id": "FSUZO9XR6ZZ4",
        "colab_type": "code",
        "colab": {}
      },
      "cell_type": "code",
      "source": [
        "# Solve challenge 57 \"Hash breaker reloaded\n",
        "# In this challenge the incoming hash must be broken and returned in 3 seconds\n",
        "\n",
        "import requests\n",
        "import re\n",
        "import hashlib\n",
        "\n",
        "url = 'https://ringzer0ctf.com/login'\n",
        "login_data = dict(username='', password='', submit='Login &raquo;')\n",
        "session = requests.session()\n",
        "\n",
        "r = session.post(url, data=login_data)\n",
        "\n",
        "def find_match(hash, salt):\n",
        "  print(hash)\n",
        "  print(salt)\n",
        "  your_list = '0123456789'\n",
        "  hashes = {}\n",
        "  for current in range(4):\n",
        "      a = [i for i in your_list]\n",
        "      for y in range(current):\n",
        "          a = [x+i for i in your_list for x in a]\n",
        "      for msg_str in a:\n",
        "        encoding_str = msg_str + salt\n",
        "        hashes[hashlib.sha1(encoding_str.encode('utf-8')).hexdigest()] = msg_str\n",
        "  return(hashes[hash])"
      ],
      "execution_count": 0,
      "outputs": []
    },
    {
      "metadata": {
        "id": "Qf2DbSCE6aFB",
        "colab_type": "code",
        "colab": {
          "base_uri": "https://localhost:8080/",
          "height": 72
        },
        "outputId": "1ec8054f-eebe-4d1d-8c74-73c310da32b3"
      },
      "cell_type": "code",
      "source": [
        "r = session.get('https://ringzer0ctf.com/challenges/57')\n",
        "regex = r\"----- BEGIN HASH -----<br />\\s+([a-zA-Z0-9]+)\"\n",
        "hash0 = re.findall(regex, r.text)[0]\n",
        "regex = r\"----- BEGIN SALT -----<br />\\s+([a-zA-Z0-9]+)\"\n",
        "salt0 = re.findall(regex, r.text)[0]\n",
        "msg = find_match(hash0,salt0)\n",
        "r = session.get('https://ringzer0ctf.com/challenges/57/' + msg)\n",
        "print(r.text[r.text.find('FLAG'):r.text.find('FLAG')+r.text[r.text.find('FLAG'):].find('<')])"
      ],
      "execution_count": 106,
      "outputs": [
        {
          "output_type": "stream",
          "text": [
            "2fad72b9af5ba23089d0c85d02020fe41c193421\n",
            "e8b6560f3e091722ef7dde0aa9dcd6ea5fe4e8032a84b85a26cd62cc712b65b7\n",
            "FLAG-XJg5635WZ16F63IcE5ychgNm\n"
          ],
          "name": "stdout"
        }
      ]
    },
    {
      "metadata": {
        "id": "YumxQ7Qr742X",
        "colab_type": "code",
        "colab": {}
      },
      "cell_type": "code",
      "source": [
        ""
      ],
      "execution_count": 0,
      "outputs": []
    },
    {
      "metadata": {
        "id": "hC-rgPxsTnZo",
        "colab_type": "code",
        "colab": {}
      },
      "cell_type": "code",
      "source": [
        ""
      ],
      "execution_count": 0,
      "outputs": []
    },
    {
      "metadata": {
        "id": "TjHZruO2aYf3",
        "colab_type": "code",
        "colab": {}
      },
      "cell_type": "code",
      "source": [
        ""
      ],
      "execution_count": 0,
      "outputs": []
    }
  ]
}